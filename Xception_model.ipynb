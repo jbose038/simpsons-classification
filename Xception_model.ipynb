{
 "cells": [
  {
   "cell_type": "code",
   "execution_count": 1,
   "metadata": {},
   "outputs": [
    {
     "data": {
      "text/plain": [
       "['annotation.txt',\n",
       " 'characters_illustration.png',\n",
       " 'kaggle_simpson_testset',\n",
       " 'number_pic_char.csv',\n",
       " 'simpsons_dataset',\n",
       " 'weights.best.hdf5']"
      ]
     },
     "execution_count": 1,
     "metadata": {},
     "output_type": "execute_result"
    }
   ],
   "source": [
    "import os\n",
    "datadir = '../datasets/kaggle/the-simpsons-characters-dataset/'\n",
    "os.listdir(datadir)"
   ]
  },
  {
   "cell_type": "code",
   "execution_count": 2,
   "metadata": {},
   "outputs": [
    {
     "name": "stderr",
     "output_type": "stream",
     "text": [
      "Using TensorFlow backend.\n"
     ]
    }
   ],
   "source": [
    "from keras.preprocessing.image import ImageDataGenerator\n",
    "from keras.models import Model\n",
    "from keras.layers import Dense, Dropout, BatchNormalization\n",
    "from keras.layers import Conv2D, MaxPooling2D, Flatten, GlobalAveragePooling2D\n",
    "from keras.callbacks import EarlyStopping\n",
    "import matplotlib.pyplot as plt"
   ]
  },
  {
   "cell_type": "code",
   "execution_count": 3,
   "metadata": {},
   "outputs": [],
   "source": [
    "datagen = ImageDataGenerator( \n",
    "    width_shift_range=0.1,  # randomly shift images horizontally (10% of total width)\n",
    "    height_shift_range=0.1,  # randomly shift images vertically (10% of total height)\n",
    "    rotation_range=40,\n",
    "    zoom_range = 0.1,\n",
    "    rescale=1./255,\n",
    "    validation_split=0.33)"
   ]
  },
  {
   "cell_type": "code",
   "execution_count": 4,
   "metadata": {},
   "outputs": [
    {
     "name": "stdout",
     "output_type": "stream",
     "text": [
      "Found 14048 images belonging to 42 classes.\n",
      "Found 6885 images belonging to 42 classes.\n"
     ]
    }
   ],
   "source": [
    "train_generator = datagen.flow_from_directory(\n",
    "    datadir+'simpsons_dataset',\n",
    "    target_size=(224, 224),\n",
    "    color_mode=\"rgb\",\n",
    "    batch_size=16,\n",
    "    class_mode=\"categorical\",\n",
    "    shuffle=True,\n",
    "    seed=42, \n",
    "    subset=\"training\")\n",
    "valid_generator = datagen.flow_from_directory(\n",
    "    directory=datadir+'simpsons_dataset',\n",
    "    target_size=(224, 224),\n",
    "    color_mode=\"rgb\",\n",
    "    batch_size=16,\n",
    "    class_mode=\"categorical\",\n",
    "    shuffle=True,\n",
    "    seed=42, \n",
    "    subset=\"validation\"\n",
    ")"
   ]
  },
  {
   "cell_type": "markdown",
   "metadata": {},
   "source": [
    "### Training"
   ]
  },
  {
   "cell_type": "code",
   "execution_count": 5,
   "metadata": {},
   "outputs": [
    {
     "name": "stdout",
     "output_type": "stream",
     "text": [
      "WARNING:tensorflow:From c:\\users\\leejb\\appdata\\local\\programs\\python\\python36\\lib\\site-packages\\tensorflow\\python\\framework\\op_def_library.py:263: colocate_with (from tensorflow.python.framework.ops) is deprecated and will be removed in a future version.\n",
      "Instructions for updating:\n",
      "Colocations handled automatically by placer.\n"
     ]
    }
   ],
   "source": [
    "from keras import optimizers\n",
    "from keras.callbacks import ReduceLROnPlateau\n",
    "\n",
    "optimizer = optimizers.RMSprop(lr=0.001, rho=0.9, epsilon=None, decay=0.0)"
   ]
  },
  {
   "cell_type": "code",
   "execution_count": 6,
   "metadata": {},
   "outputs": [],
   "source": [
    "learning_rate_reduction = ReduceLROnPlateau(monitor='val_acc', \n",
    "                                            patience=2, \n",
    "                                            verbose=1, \n",
    "                                            factor=0.5, \n",
    "                                            min_lr=0.00001)"
   ]
  },
  {
   "cell_type": "code",
   "execution_count": 7,
   "metadata": {},
   "outputs": [],
   "source": [
    "from keras.applications import xception"
   ]
  },
  {
   "cell_type": "code",
   "execution_count": 8,
   "metadata": {},
   "outputs": [],
   "source": [
    "base_model = xception.Xception(weights='imagenet', include_top=False, input_shape=(224,224,3))"
   ]
  },
  {
   "cell_type": "code",
   "execution_count": 9,
   "metadata": {},
   "outputs": [],
   "source": [
    "x = base_model.output\n",
    "x = GlobalAveragePooling2D()(x)\n",
    "x = Dense(2048, activation='relu')(x)\n",
    "out = Dense(42, activation='softmax')(x)\n",
    "\n",
    "model = Model(base_model.input, out)\n",
    "model.compile(optimizer=optimizer, loss='categorical_crossentropy', metrics=['acc'])"
   ]
  },
  {
   "cell_type": "code",
   "execution_count": 10,
   "metadata": {},
   "outputs": [],
   "source": [
    "STEP_SIZE_TRAIN=train_generator.n//train_generator.batch_size\n",
    "STEP_SIZE_VALID=valid_generator.n//valid_generator.batch_size"
   ]
  },
  {
   "cell_type": "code",
   "execution_count": 11,
   "metadata": {},
   "outputs": [
    {
     "name": "stdout",
     "output_type": "stream",
     "text": [
      "WARNING:tensorflow:From c:\\users\\leejb\\appdata\\local\\programs\\python\\python36\\lib\\site-packages\\tensorflow\\python\\ops\\math_ops.py:3066: to_int32 (from tensorflow.python.ops.math_ops) is deprecated and will be removed in a future version.\n",
      "Instructions for updating:\n",
      "Use tf.cast instead.\n",
      "Epoch 1/20\n",
      "878/878 [==============================] - 309s 352ms/step - loss: 1.6239 - acc: 0.5974 - val_loss: 4.3937 - val_acc: 0.5628\n",
      "Epoch 2/20\n",
      "878/878 [==============================] - 299s 340ms/step - loss: 0.9001 - acc: 0.7928 - val_loss: 4.1734 - val_acc: 0.5464\n",
      "Epoch 3/20\n",
      "878/878 [==============================] - 447s 509ms/step - loss: 0.7340 - acc: 0.8312 - val_loss: 2.3600 - val_acc: 0.6736\n",
      "Epoch 4/20\n",
      "878/878 [==============================] - 446s 508ms/step - loss: 0.6443 - acc: 0.8536 - val_loss: 1.6114 - val_acc: 0.8006\n",
      "Epoch 5/20\n",
      "878/878 [==============================] - 450s 512ms/step - loss: 0.6017 - acc: 0.8645 - val_loss: 4.9878 - val_acc: 0.6097\n",
      "Epoch 6/20\n",
      "878/878 [==============================] - 452s 515ms/step - loss: 0.5355 - acc: 0.8795 - val_loss: 1.4908 - val_acc: 0.8020\n",
      "Epoch 7/20\n",
      "878/878 [==============================] - 473s 539ms/step - loss: 0.5469 - acc: 0.8836 - val_loss: 0.7449 - val_acc: 0.8696\n",
      "Epoch 8/20\n",
      "878/878 [==============================] - 473s 539ms/step - loss: 0.4978 - acc: 0.8937 - val_loss: 1.0912 - val_acc: 0.8508\n",
      "Epoch 9/20\n",
      "878/878 [==============================] - 464s 529ms/step - loss: 0.4794 - acc: 0.8987 - val_loss: 3.9835 - val_acc: 0.6738\n",
      "\n",
      "Epoch 00009: ReduceLROnPlateau reducing learning rate to 0.0005000000237487257.\n",
      "Epoch 10/20\n",
      "878/878 [==============================] - 480s 546ms/step - loss: 0.3193 - acc: 0.9293 - val_loss: 1.0421 - val_acc: 0.8632\n",
      "Epoch 11/20\n",
      "878/878 [==============================] - 484s 551ms/step - loss: 0.2803 - acc: 0.9372 - val_loss: 0.5354 - val_acc: 0.9115\n",
      "Epoch 12/20\n",
      "878/878 [==============================] - 478s 544ms/step - loss: 0.2722 - acc: 0.9405 - val_loss: 0.5326 - val_acc: 0.9058\n",
      "Epoch 13/20\n",
      "878/878 [==============================] - 462s 526ms/step - loss: 0.2670 - acc: 0.9424 - val_loss: 0.6098 - val_acc: 0.9118\n",
      "Epoch 14/20\n",
      "878/878 [==============================] - 461s 525ms/step - loss: 0.2592 - acc: 0.9445 - val_loss: 0.6037 - val_acc: 0.9077\n",
      "Epoch 15/20\n",
      "878/878 [==============================] - 447s 509ms/step - loss: 0.2519 - acc: 0.9489 - val_loss: 0.6937 - val_acc: 0.8942\n",
      "\n",
      "Epoch 00015: ReduceLROnPlateau reducing learning rate to 0.0002500000118743628.\n",
      "Epoch 16/20\n",
      "878/878 [==============================] - 445s 507ms/step - loss: 0.1823 - acc: 0.9600 - val_loss: 0.4762 - val_acc: 0.9247\n",
      "Epoch 17/20\n",
      "878/878 [==============================] - 454s 517ms/step - loss: 0.1559 - acc: 0.9673 - val_loss: 0.5440 - val_acc: 0.9230\n",
      "Epoch 18/20\n",
      "878/878 [==============================] - 466s 531ms/step - loss: 0.1477 - acc: 0.9695 - val_loss: 0.4070 - val_acc: 0.9269\n",
      "Epoch 19/20\n",
      "878/878 [==============================] - 457s 521ms/step - loss: 0.1523 - acc: 0.9680 - val_loss: 0.4979 - val_acc: 0.9276\n",
      "Epoch 20/20\n",
      "878/878 [==============================] - 467s 532ms/step - loss: 0.1349 - acc: 0.9721 - val_loss: 0.5408 - val_acc: 0.9233\n"
     ]
    },
    {
     "data": {
      "text/plain": [
       "<keras.callbacks.History at 0x1d800eb4080>"
      ]
     },
     "execution_count": 11,
     "metadata": {},
     "output_type": "execute_result"
    }
   ],
   "source": [
    "model.fit_generator(generator=train_generator,\n",
    "                    steps_per_epoch=STEP_SIZE_TRAIN,\n",
    "                    validation_data=valid_generator,\n",
    "                    validation_steps=STEP_SIZE_VALID,\n",
    "                    epochs=20,\n",
    "                    verbose=1,\n",
    "                    callbacks=[learning_rate_reduction]\n",
    ")"
   ]
  },
  {
   "cell_type": "markdown",
   "metadata": {},
   "source": [
    "### VAL_ACC = 0.92"
   ]
  },
  {
   "cell_type": "markdown",
   "metadata": {},
   "source": [
    "### Test"
   ]
  },
  {
   "cell_type": "code",
   "execution_count": 12,
   "metadata": {},
   "outputs": [],
   "source": [
    "from keras.preprocessing.image import img_to_array, load_img\n",
    "import numpy as np"
   ]
  },
  {
   "cell_type": "code",
   "execution_count": 14,
   "metadata": {},
   "outputs": [],
   "source": [
    "indicer = dict([(v,k) for k,v in train_generator.class_indices.items()])"
   ]
  },
  {
   "cell_type": "code",
   "execution_count": 31,
   "metadata": {},
   "outputs": [],
   "source": [
    "def img_preprocess(img):\n",
    "    img_arr = img_to_array(img).reshape((1,224,224,3))\n",
    "    img_arr /= 255.\n",
    "    return img_arr"
   ]
  },
  {
   "cell_type": "code",
   "execution_count": 71,
   "metadata": {},
   "outputs": [
    {
     "name": "stdout",
     "output_type": "stream",
     "text": [
      "I think this character is....apu_nahasapeemapetilon!\n"
     ]
    },
    {
     "data": {
      "image/png": "[encoded data removed]",
      "text/plain": [
       "<Figure size 432x288 with 1 Axes>"
      ]
     },
     "metadata": {
      "needs_background": "light"
     },
     "output_type": "display_data"
    }
   ],
   "source": [
    "testdir = datadir+'kaggle_simpson_testset/'\n",
    "img = load_img(testdir+'apu_nahasapeemapetilon/apu_nahasapeemapetilon_8.jpg', target_size=(224,224))\n",
    "plt.imshow(img)\n",
    "print('I think this character is....%s!'%indicer[np.argmax(model.predict(img_preprocess(img)),axis=1).item()])"
   ]
  },
  {
   "cell_type": "code",
   "execution_count": 44,
   "metadata": {},
   "outputs": [],
   "source": [
    "labels = set(map(lambda x: '_'.join(x.split('_')[:-1]), os.listdir(testdir)))"
   ]
  },
  {
   "cell_type": "code",
   "execution_count": 64,
   "metadata": {},
   "outputs": [
    {
     "name": "stdout",
     "output_type": "stream",
     "text": [
      "Found 990 images belonging to 42 classes.\n"
     ]
    }
   ],
   "source": [
    "test_datagen = ImageDataGenerator(rescale=1./255)\n",
    "test_generator = test_datagen.flow_from_directory(\n",
    "    directory=testdir,\n",
    "    target_size=(224, 224),\n",
    "    color_mode=\"rgb\",\n",
    "    batch_size=32,\n",
    "    class_mode=\"categorical\",\n",
    "    shuffle=False,\n",
    "    seed=42\n",
    ")"
   ]
  },
  {
   "cell_type": "code",
   "execution_count": 66,
   "metadata": {},
   "outputs": [],
   "source": [
    "test_loss, test_acc = model.evaluate_generator(test_generator, steps=test_generator.n//test_generator.batch_size)"
   ]
  },
  {
   "cell_type": "code",
   "execution_count": 67,
   "metadata": {},
   "outputs": [
    {
     "name": "stdout",
     "output_type": "stream",
     "text": [
      "test loss : 0.5228443816333381 / test accuracy : 0.9509394572025052\n"
     ]
    }
   ],
   "source": [
    "print('test loss : %s / test accuracy : %s'%(test_loss, test_acc))"
   ]
  },
  {
   "cell_type": "markdown",
   "metadata": {},
   "source": [
    "### TEST_ACC = 0.95"
   ]
  },
  {
   "cell_type": "code",
   "execution_count": 72,
   "metadata": {},
   "outputs": [],
   "source": [
    "model.save_weights('../saved_model/simpsons_classifier_xception.h5')"
   ]
  }
 ],
 "metadata": {
  "kernelspec": {
   "display_name": "Python 3",
   "language": "python",
   "name": "python3"
  },
  "language_info": {
   "codemirror_mode": {
    "name": "ipython",
    "version": 3
   },
   "file_extension": ".py",
   "mimetype": "text/x-python",
   "name": "python",
   "nbconvert_exporter": "python",
   "pygments_lexer": "ipython3",
   "version": "3.6.8"
  }
 },
 "nbformat": 4,
 "nbformat_minor": 2
}

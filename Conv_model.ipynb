{
 "cells": [
  {
   "cell_type": "code",
   "execution_count": 1,
   "metadata": {},
   "outputs": [
    {
     "data": {
      "text/plain": [
       "['annotation.txt',\n",
       " 'characters_illustration.png',\n",
       " 'kaggle_simpson_testset',\n",
       " 'number_pic_char.csv',\n",
       " 'simpsons_dataset',\n",
       " 'weights.best.hdf5']"
      ]
     },
     "execution_count": 1,
     "metadata": {},
     "output_type": "execute_result"
    }
   ],
   "source": [
    "import os\n",
    "datadir = '../datasets/kaggle/the-simpsons-characters-dataset/'\n",
    "os.listdir(datadir)"
   ]
  },
  {
   "cell_type": "code",
   "execution_count": 2,
   "metadata": {},
   "outputs": [
    {
     "name": "stderr",
     "output_type": "stream",
     "text": [
      "Using TensorFlow backend.\n"
     ]
    }
   ],
   "source": [
    "from keras.preprocessing.image import ImageDataGenerator\n",
    "from keras.models import Sequential\n",
    "from keras.layers import Dense, Dropout, BatchNormalization\n",
    "from keras.layers import Conv2D, MaxPooling2D, Flatten, GlobalAveragePooling2D\n",
    "from keras.callbacks import EarlyStopping\n",
    "import matplotlib.pyplot as plt"
   ]
  },
  {
   "cell_type": "code",
   "execution_count": 5,
   "metadata": {},
   "outputs": [],
   "source": [
    "datagen = ImageDataGenerator( \n",
    "    width_shift_range=0.1,  # randomly shift images horizontally (10% of total width)\n",
    "    height_shift_range=0.1,  # randomly shift images vertically (10% of total height)\n",
    "    rotation_range=40,\n",
    "    zoom_range = 0.1,\n",
    "    rescale=1./255,\n",
    "    validation_split=0.33)"
   ]
  },
  {
   "cell_type": "code",
   "execution_count": 6,
   "metadata": {},
   "outputs": [
    {
     "name": "stdout",
     "output_type": "stream",
     "text": [
      "Found 14048 images belonging to 42 classes.\n",
      "Found 6885 images belonging to 42 classes.\n"
     ]
    }
   ],
   "source": [
    "train_generator = datagen.flow_from_directory(\n",
    "    datadir+'simpsons_dataset',\n",
    "    target_size=(224, 224),\n",
    "    color_mode=\"rgb\",\n",
    "    batch_size=32,\n",
    "    class_mode=\"categorical\",\n",
    "    shuffle=True,\n",
    "    seed=42, \n",
    "    subset=\"training\")\n",
    "valid_generator = datagen.flow_from_directory(\n",
    "    directory=datadir+'simpsons_dataset',\n",
    "    target_size=(224, 224),\n",
    "    color_mode=\"rgb\",\n",
    "    batch_size=32,\n",
    "    class_mode=\"categorical\",\n",
    "    shuffle=True,\n",
    "    seed=42, \n",
    "    subset=\"validation\"\n",
    ")"
   ]
  },
  {
   "cell_type": "code",
   "execution_count": 11,
   "metadata": {},
   "outputs": [],
   "source": [
    "model = Sequential()\n",
    "\n",
    "model.add(Conv2D(128, 3, padding='same', activation='relu', input_shape=(224,224,3)))\n",
    "model.add(MaxPooling2D())\n",
    "model.add(BatchNormalization())\n",
    "\n",
    "model.add(Conv2D(64, 3, padding='same', activation='relu'))\n",
    "model.add(MaxPooling2D())\n",
    "model.add(BatchNormalization())\n",
    "\n",
    "model.add(Conv2D(32, 3, padding='same', activation='relu'))\n",
    "model.add(MaxPooling2D())\n",
    "model.add(BatchNormalization())\n",
    "\n",
    "model.add(GlobalAveragePooling2D())\n",
    "model.add(Dense(42, activation='softmax'))"
   ]
  },
  {
   "cell_type": "code",
   "execution_count": 12,
   "metadata": {},
   "outputs": [
    {
     "name": "stdout",
     "output_type": "stream",
     "text": [
      "_________________________________________________________________\n",
      "Layer (type)                 Output Shape              Param #   \n",
      "=================================================================\n",
      "conv2d_4 (Conv2D)            (None, 224, 224, 128)     3584      \n",
      "_________________________________________________________________\n",
      "max_pooling2d_4 (MaxPooling2 (None, 112, 112, 128)     0         \n",
      "_________________________________________________________________\n",
      "batch_normalization_4 (Batch (None, 112, 112, 128)     512       \n",
      "_________________________________________________________________\n",
      "conv2d_5 (Conv2D)            (None, 112, 112, 64)      73792     \n",
      "_________________________________________________________________\n",
      "max_pooling2d_5 (MaxPooling2 (None, 56, 56, 64)        0         \n",
      "_________________________________________________________________\n",
      "batch_normalization_5 (Batch (None, 56, 56, 64)        256       \n",
      "_________________________________________________________________\n",
      "conv2d_6 (Conv2D)            (None, 56, 56, 32)        18464     \n",
      "_________________________________________________________________\n",
      "max_pooling2d_6 (MaxPooling2 (None, 28, 28, 32)        0         \n",
      "_________________________________________________________________\n",
      "batch_normalization_6 (Batch (None, 28, 28, 32)        128       \n",
      "_________________________________________________________________\n",
      "global_average_pooling2d_2 ( (None, 32)                0         \n",
      "_________________________________________________________________\n",
      "dense_2 (Dense)              (None, 42)                1386      \n",
      "=================================================================\n",
      "Total params: 98,122\n",
      "Trainable params: 97,674\n",
      "Non-trainable params: 448\n",
      "_________________________________________________________________\n"
     ]
    }
   ],
   "source": [
    "model.summary()"
   ]
  },
  {
   "cell_type": "code",
   "execution_count": 13,
   "metadata": {},
   "outputs": [],
   "source": [
    "model.compile(optimizer='rmsprop', loss='categorical_crossentropy', metrics=['acc'])"
   ]
  },
  {
   "cell_type": "code",
   "execution_count": 14,
   "metadata": {},
   "outputs": [],
   "source": [
    "from keras.callbacks import ModelCheckpoint"
   ]
  },
  {
   "cell_type": "code",
   "execution_count": 15,
   "metadata": {},
   "outputs": [],
   "source": [
    "model_saver = ModelCheckpoint('../saved_model/simpsons_conv_best.h5',\n",
    "                             verbose=1, save_best_only=True, save_weights_only=True)"
   ]
  },
  {
   "cell_type": "code",
   "execution_count": 16,
   "metadata": {
    "scrolled": false
   },
   "outputs": [
    {
     "name": "stdout",
     "output_type": "stream",
     "text": [
      "Epoch 1/20\n",
      "439/439 [==============================] - 586s 1s/step - loss: 3.0175 - acc: 0.2185 - val_loss: 2.8749 - val_acc: 0.2154\n",
      "\n",
      "Epoch 00001: val_loss improved from inf to 2.87492, saving model to ../saved_model/simpsons_conv_best.h5\n",
      "Epoch 2/20\n",
      "439/439 [==============================] - 186s 423ms/step - loss: 2.4817 - acc: 0.3306 - val_loss: 2.6991 - val_acc: 0.2673\n",
      "\n",
      "Epoch 00002: val_loss improved from 2.87492 to 2.69915, saving model to ../saved_model/simpsons_conv_best.h5\n",
      "Epoch 3/20\n",
      "439/439 [==============================] - 186s 423ms/step - loss: 2.2237 - acc: 0.4136 - val_loss: 2.4196 - val_acc: 0.3657\n",
      "\n",
      "Epoch 00003: val_loss improved from 2.69915 to 2.41963, saving model to ../saved_model/simpsons_conv_best.h5\n",
      "Epoch 4/20\n",
      "439/439 [==============================] - 185s 421ms/step - loss: 2.0080 - acc: 0.4793 - val_loss: 2.8067 - val_acc: 0.3426\n",
      "\n",
      "Epoch 00004: val_loss did not improve from 2.41963\n",
      "Epoch 5/20\n",
      "439/439 [==============================] - 185s 421ms/step - loss: 1.8434 - acc: 0.5268 - val_loss: 2.1590 - val_acc: 0.4435\n",
      "\n",
      "Epoch 00005: val_loss improved from 2.41963 to 2.15903, saving model to ../saved_model/simpsons_conv_best.h5\n",
      "Epoch 6/20\n",
      "439/439 [==============================] - 186s 423ms/step - loss: 1.6983 - acc: 0.5634 - val_loss: 2.6561 - val_acc: 0.4086\n",
      "\n",
      "Epoch 00006: val_loss did not improve from 2.15903\n",
      "Epoch 7/20\n",
      "439/439 [==============================] - 185s 421ms/step - loss: 1.5639 - acc: 0.5969 - val_loss: 2.7570 - val_acc: 0.4454\n",
      "\n",
      "Epoch 00007: val_loss did not improve from 2.15903\n",
      "Epoch 8/20\n",
      "439/439 [==============================] - 185s 422ms/step - loss: 1.4531 - acc: 0.6264 - val_loss: 2.1367 - val_acc: 0.4840\n",
      "\n",
      "Epoch 00008: val_loss improved from 2.15903 to 2.13665, saving model to ../saved_model/simpsons_conv_best.h5\n",
      "Epoch 9/20\n",
      "439/439 [==============================] - 186s 423ms/step - loss: 1.3544 - acc: 0.6523 - val_loss: 2.0187 - val_acc: 0.5237\n",
      "\n",
      "Epoch 00009: val_loss improved from 2.13665 to 2.01873, saving model to ../saved_model/simpsons_conv_best.h5\n",
      "Epoch 10/20\n",
      "439/439 [==============================] - 189s 430ms/step - loss: 1.2747 - acc: 0.6728 - val_loss: 2.0423 - val_acc: 0.4988\n",
      "\n",
      "Epoch 00010: val_loss did not improve from 2.01873\n",
      "Epoch 11/20\n",
      "439/439 [==============================] - 187s 425ms/step - loss: 1.2025 - acc: 0.6906 - val_loss: 4.9237 - val_acc: 0.3406\n",
      "\n",
      "Epoch 00011: val_loss did not improve from 2.01873\n",
      "Epoch 12/20\n",
      "439/439 [==============================] - 187s 426ms/step - loss: 1.1281 - acc: 0.7110 - val_loss: 2.6247 - val_acc: 0.4658\n",
      "\n",
      "Epoch 00012: val_loss did not improve from 2.01873\n",
      "Epoch 13/20\n",
      "439/439 [==============================] - 193s 439ms/step - loss: 1.0775 - acc: 0.7218 - val_loss: 1.8938 - val_acc: 0.5500\n",
      "\n",
      "Epoch 00013: val_loss improved from 2.01873 to 1.89384, saving model to ../saved_model/simpsons_conv_best.h5\n",
      "Epoch 14/20\n",
      "439/439 [==============================] - 193s 439ms/step - loss: 1.0280 - acc: 0.7379 - val_loss: 1.7647 - val_acc: 0.5811\n",
      "\n",
      "Epoch 00014: val_loss improved from 1.89384 to 1.76471, saving model to ../saved_model/simpsons_conv_best.h5\n",
      "Epoch 15/20\n",
      "439/439 [==============================] - 193s 440ms/step - loss: 0.9782 - acc: 0.7485 - val_loss: 1.5930 - val_acc: 0.6069\n",
      "\n",
      "Epoch 00015: val_loss improved from 1.76471 to 1.59300, saving model to ../saved_model/simpsons_conv_best.h5\n",
      "Epoch 16/20\n",
      "439/439 [==============================] - 195s 444ms/step - loss: 0.9509 - acc: 0.7561 - val_loss: 1.5218 - val_acc: 0.6209\n",
      "\n",
      "Epoch 00016: val_loss improved from 1.59300 to 1.52179, saving model to ../saved_model/simpsons_conv_best.h5\n",
      "Epoch 17/20\n",
      "439/439 [==============================] - 198s 450ms/step - loss: 0.9127 - acc: 0.7649 - val_loss: 1.4532 - val_acc: 0.6348\n",
      "\n",
      "Epoch 00017: val_loss improved from 1.52179 to 1.45322, saving model to ../saved_model/simpsons_conv_best.h5\n",
      "Epoch 18/20\n",
      "439/439 [==============================] - 199s 454ms/step - loss: 0.8805 - acc: 0.7720 - val_loss: 1.8232 - val_acc: 0.5946\n",
      "\n",
      "Epoch 00018: val_loss did not improve from 1.45322\n",
      "Epoch 19/20\n",
      "439/439 [==============================] - 197s 450ms/step - loss: 0.8550 - acc: 0.7789 - val_loss: 1.9110 - val_acc: 0.5830\n",
      "\n",
      "Epoch 00019: val_loss did not improve from 1.45322\n",
      "Epoch 20/20\n",
      "439/439 [==============================] - 193s 440ms/step - loss: 0.8240 - acc: 0.7872 - val_loss: 2.2976 - val_acc: 0.5231\n",
      "\n",
      "Epoch 00020: val_loss did not improve from 1.45322\n"
     ]
    },
    {
     "data": {
      "text/plain": [
       "<keras.callbacks.History at 0x1f2ca4e1940>"
      ]
     },
     "execution_count": 16,
     "metadata": {},
     "output_type": "execute_result"
    }
   ],
   "source": [
    "STEPS_PER_EPOCH = train_generator.n // train_generator.batch_size\n",
    "VALID_STEPS = valid_generator.n // valid_generator.batch_size\n",
    "model.fit_generator(train_generator,steps_per_epoch=STEPS_PER_EPOCH, epochs=20,\n",
    "                    callbacks=[model_saver],validation_data=valid_generator,validation_steps=VALID_STEPS)"
   ]
  },
  {
   "cell_type": "code",
   "execution_count": 17,
   "metadata": {},
   "outputs": [],
   "source": [
    "from keras.preprocessing.image import img_to_array, load_img"
   ]
  },
  {
   "cell_type": "code",
   "execution_count": 39,
   "metadata": {},
   "outputs": [],
   "source": [
    "img = load_img(datadir+'kaggle_simpson_testset/kaggle_simpson_testset/abraham_grampa_simpson_12.jpg', target_size=(224,224))\n",
    "img_arr = img_to_array(img).reshape((1,224,224,3))"
   ]
  },
  {
   "cell_type": "code",
   "execution_count": 25,
   "metadata": {
    "collapsed": true
   },
   "outputs": [
    {
     "data": {
      "text/plain": [
       "{0: 'abraham_grampa_simpson',\n",
       " 1: 'agnes_skinner',\n",
       " 2: 'apu_nahasapeemapetilon',\n",
       " 3: 'barney_gumble',\n",
       " 4: 'bart_simpson',\n",
       " 5: 'carl_carlson',\n",
       " 6: 'charles_montgomery_burns',\n",
       " 7: 'chief_wiggum',\n",
       " 8: 'cletus_spuckler',\n",
       " 9: 'comic_book_guy',\n",
       " 10: 'disco_stu',\n",
       " 11: 'edna_krabappel',\n",
       " 12: 'fat_tony',\n",
       " 13: 'gil',\n",
       " 14: 'groundskeeper_willie',\n",
       " 15: 'homer_simpson',\n",
       " 16: 'kent_brockman',\n",
       " 17: 'krusty_the_clown',\n",
       " 18: 'lenny_leonard',\n",
       " 19: 'lionel_hutz',\n",
       " 20: 'lisa_simpson',\n",
       " 21: 'maggie_simpson',\n",
       " 22: 'marge_simpson',\n",
       " 23: 'martin_prince',\n",
       " 24: 'mayor_quimby',\n",
       " 25: 'milhouse_van_houten',\n",
       " 26: 'miss_hoover',\n",
       " 27: 'moe_szyslak',\n",
       " 28: 'ned_flanders',\n",
       " 29: 'nelson_muntz',\n",
       " 30: 'otto_mann',\n",
       " 31: 'patty_bouvier',\n",
       " 32: 'principal_skinner',\n",
       " 33: 'professor_john_frink',\n",
       " 34: 'rainier_wolfcastle',\n",
       " 35: 'ralph_wiggum',\n",
       " 36: 'selma_bouvier',\n",
       " 37: 'sideshow_bob',\n",
       " 38: 'sideshow_mel',\n",
       " 39: 'snake_jailbird',\n",
       " 40: 'troy_mcclure',\n",
       " 41: 'waylon_smithers'}"
      ]
     },
     "execution_count": 25,
     "metadata": {},
     "output_type": "execute_result"
    }
   ],
   "source": [
    "indicer = dict([(v,k) for k,v in train_generator.class_indices.items()])\n",
    "indicer"
   ]
  },
  {
   "cell_type": "code",
   "execution_count": 40,
   "metadata": {},
   "outputs": [
    {
     "data": {
      "text/plain": [
       "'kent_brockman'"
      ]
     },
     "execution_count": 40,
     "metadata": {},
     "output_type": "execute_result"
    },
    {
     "data": {
      "image/png": "[encoded data removed]",
      "text/plain": [
       "<Figure size 432x288 with 1 Axes>"
      ]
     },
     "metadata": {
      "needs_background": "light"
     },
     "output_type": "display_data"
    }
   ],
   "source": [
    "plt.imshow(img)\n",
    "indicer[model.predict_classes(img_arr).item()]"
   ]
  }
 ],
 "metadata": {
  "kernelspec": {
   "display_name": "Python 3",
   "language": "python",
   "name": "python3"
  },
  "language_info": {
   "codemirror_mode": {
    "name": "ipython",
    "version": 3
   },
   "file_extension": ".py",
   "mimetype": "text/x-python",
   "name": "python",
   "nbconvert_exporter": "python",
   "pygments_lexer": "ipython3",
   "version": "3.6.8"
  }
 },
 "nbformat": 4,
 "nbformat_minor": 2
}
